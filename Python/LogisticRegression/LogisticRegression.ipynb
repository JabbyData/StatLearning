{
 "cells": [
  {
   "cell_type": "markdown",
   "source": [
    "# Logistic Regression using Gradient Descent"
   ],
   "metadata": {
    "collapsed": false
   }
  },
  {
   "cell_type": "code",
   "execution_count": 43,
   "outputs": [],
   "source": [
    "# Dependencies\n",
    "import numpy as np\n",
    "import pandas as pd\n",
    "from sklearn.model_selection import train_test_split\n",
    "import matplotlib.pyplot as plt"
   ],
   "metadata": {
    "collapsed": false,
    "ExecuteTime": {
     "end_time": "2024-05-08T18:45:59.230697120Z",
     "start_time": "2024-05-08T18:45:58.929961360Z"
    }
   }
  },
  {
   "cell_type": "code",
   "execution_count": 44,
   "outputs": [],
   "source": [
    "# parameters\n",
    "lr = 0.001\n",
    "epochs = 10000\n",
    "# np.random.seed(42) # for reproducibility"
   ],
   "metadata": {
    "collapsed": false,
    "ExecuteTime": {
     "end_time": "2024-05-08T18:45:59.231062599Z",
     "start_time": "2024-05-08T18:45:58.944462518Z"
    }
   }
  },
  {
   "cell_type": "code",
   "execution_count": 45,
   "outputs": [],
   "source": [
    "# Load the data\n",
    "data = pd.read_csv('Iris.csv').drop('Id', axis=1).iloc[:100]\n",
    "data['Species'] = data['Species'].map({'Iris-setosa': 0, 'Iris-versicolor': -1})"
   ],
   "metadata": {
    "collapsed": false,
    "ExecuteTime": {
     "end_time": "2024-05-08T18:45:59.231838447Z",
     "start_time": "2024-05-08T18:45:59.017478585Z"
    }
   }
  },
  {
   "cell_type": "markdown",
   "source": [
    "## Gradient Descent :\n",
    "On each epoch :\n",
    "$\\forall$ $i$ in $1,...,n$:\n",
    "$$\\theta_j = \\theta_j - \\alpha \\sum_{i=1}^{n} (h_{\\theta}(x^{(i)}) - y^{(i)})x_j^{(i)}$$\n",
    "where $h_{\\theta}(x) = \\frac{1}{1 + e^{-\\theta^T x}}$"
   ],
   "metadata": {
    "collapsed": false
   }
  },
  {
   "cell_type": "code",
   "execution_count": 46,
   "outputs": [],
   "source": [
    "# Gradient Descent\n",
    "def sigmoid(x):\n",
    "    return 1 / (1 + np.exp(-x))\n",
    "\n",
    "def gradient_descent(X,y,lr,epochs):\n",
    "    intercept = np.ones((X.shape[0], 1)) # beta_0\n",
    "    features = np.hstack((intercept, X))\n",
    "    weights = np.random.normal(0, 1, features.shape[1])\n",
    "    m = len(X)\n",
    "    for step in range(epochs):\n",
    "        scores = np.dot(features, weights)\n",
    "        pred = sigmoid(scores)\n",
    "        direction = pred - y\n",
    "        gradient = np.dot(np.transpose(features), direction)\n",
    "        # Update weights, alpha = lr/m\n",
    "        weights -= (lr / m) * gradient\n",
    "    return weights"
   ],
   "metadata": {
    "collapsed": false,
    "ExecuteTime": {
     "end_time": "2024-05-08T18:45:59.232155040Z",
     "start_time": "2024-05-08T18:45:59.102850700Z"
    }
   }
  },
  {
   "cell_type": "code",
   "execution_count": 47,
   "outputs": [],
   "source": [
    "# Split the data\n",
    "X = data.drop('Species', axis=1)\n",
    "y = data['Species']\n",
    "X_train, X_test, y_train, y_test = train_test_split(X, y, test_size=0.2)\n",
    "\n",
    "betas_train = gradient_descent(X_train, y_train, lr, epochs)"
   ],
   "metadata": {
    "collapsed": false,
    "ExecuteTime": {
     "end_time": "2024-05-08T18:46:00.494411511Z",
     "start_time": "2024-05-08T18:45:59.188447355Z"
    }
   }
  },
  {
   "cell_type": "code",
   "execution_count": 48,
   "outputs": [],
   "source": [
    "# Model Accuracy\n",
    "def predict(X,betas):\n",
    "    intercept = np.ones((X.shape[0], 1))\n",
    "    features = np.hstack((intercept, X))\n",
    "    return sigmoid(np.dot(features, betas))\n",
    "\n",
    "def accuracy(y, y_pred):\n",
    "    return np.mean(y == np.round(y_pred))"
   ],
   "metadata": {
    "collapsed": false,
    "ExecuteTime": {
     "end_time": "2024-05-08T18:46:00.496777006Z",
     "start_time": "2024-05-08T18:46:00.494693369Z"
    }
   }
  },
  {
   "cell_type": "code",
   "execution_count": 49,
   "outputs": [
    {
     "name": "stdout",
     "output_type": "stream",
     "text": [
      "Train Accuracy :  0.525\n",
      "Test Accuracy :  0.4\n"
     ]
    }
   ],
   "source": [
    "# Train Accuracy\n",
    "print(\"Train Accuracy : \", accuracy(y_train, predict(X_train, betas_train)))\n",
    "# Test Accuracy\n",
    "print(\"Test Accuracy : \", accuracy(y_test, predict(X_test, betas_train)))"
   ],
   "metadata": {
    "collapsed": false,
    "ExecuteTime": {
     "end_time": "2024-05-08T18:46:00.579806936Z",
     "start_time": "2024-05-08T18:46:00.495082658Z"
    }
   }
  }
 ],
 "metadata": {
  "kernelspec": {
   "display_name": "Python 3",
   "language": "python",
   "name": "python3"
  },
  "language_info": {
   "codemirror_mode": {
    "name": "ipython",
    "version": 2
   },
   "file_extension": ".py",
   "mimetype": "text/x-python",
   "name": "python",
   "nbconvert_exporter": "python",
   "pygments_lexer": "ipython2",
   "version": "2.7.6"
  }
 },
 "nbformat": 4,
 "nbformat_minor": 0
}
