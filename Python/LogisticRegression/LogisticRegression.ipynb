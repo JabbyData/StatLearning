{
 "cells": [
  {
   "cell_type": "markdown",
   "source": [
    "# Logistic Regression using Gradient Descent"
   ],
   "metadata": {
    "collapsed": false
   }
  },
  {
   "cell_type": "code",
   "execution_count": 181,
   "outputs": [],
   "source": [
    "# Dependencies\n",
    "import numpy as np\n",
    "import pandas as pd\n",
    "from sklearn.model_selection import train_test_split\n",
    "import matplotlib.pyplot as plt"
   ],
   "metadata": {
    "collapsed": false,
    "ExecuteTime": {
     "end_time": "2024-05-08T18:38:26.199140907Z",
     "start_time": "2024-05-08T18:38:25.979813470Z"
    }
   }
  },
  {
   "cell_type": "code",
   "execution_count": 182,
   "outputs": [],
   "source": [
    "# parameters\n",
    "lr = 0.01\n",
    "epochs = 1000\n",
    "# np.random.seed(42) # for reproducibility"
   ],
   "metadata": {
    "collapsed": false,
    "ExecuteTime": {
     "end_time": "2024-05-08T18:38:26.201811539Z",
     "start_time": "2024-05-08T18:38:26.026296277Z"
    }
   }
  },
  {
   "cell_type": "code",
   "execution_count": 183,
   "outputs": [],
   "source": [
    "# Load the data\n",
    "data = pd.read_csv('Iris.csv').drop('Id', axis=1)\n",
    "data['Species'] = data['Species'].map({'Iris-setosa': 0, 'Iris-versicolor': -1, 'Iris-virginica': 1})"
   ],
   "metadata": {
    "collapsed": false,
    "ExecuteTime": {
     "end_time": "2024-05-08T18:38:26.246226344Z",
     "start_time": "2024-05-08T18:38:26.076953522Z"
    }
   }
  },
  {
   "cell_type": "markdown",
   "source": [
    "## Gradient Descent :\n",
    "On each epoch :\n",
    "$\\forall$ $i$ in $1,...,n$:\n",
    "$$\\theta_j = \\theta_j - \\alpha \\sum_{i=1}^{n} (h_{\\theta}(x^{(i)}) - y^{(i)})x_j^{(i)}$$\n",
    "where $h_{\\theta}(x) = \\frac{1}{1 + e^{-\\theta^T x}}$"
   ],
   "metadata": {
    "collapsed": false
   }
  },
  {
   "cell_type": "code",
   "execution_count": 184,
   "outputs": [],
   "source": [
    "# Gradient Descent\n",
    "def sigmoid(x):\n",
    "    return 1 / (1 + np.exp(-x))\n",
    "\n",
    "def gradient_descent(X,y,lr,epochs):\n",
    "    intercept = np.ones((X.shape[0], 1)) # beta_0\n",
    "    features = np.hstack((intercept, X))\n",
    "    weights = np.random.normal(0, 1, features.shape[1])\n",
    "    m = len(X)\n",
    "    for step in range(epochs):\n",
    "        scores = np.dot(features, weights)\n",
    "        pred = sigmoid(scores)\n",
    "        direction = pred - y\n",
    "        gradient = np.dot(np.transpose(features), direction)\n",
    "        # Update weights, alpha = lr/m\n",
    "        weights -= (lr / m) * gradient\n",
    "    return weights"
   ],
   "metadata": {
    "collapsed": false,
    "ExecuteTime": {
     "end_time": "2024-05-08T18:38:26.502975990Z",
     "start_time": "2024-05-08T18:38:26.233689419Z"
    }
   }
  },
  {
   "cell_type": "code",
   "execution_count": 185,
   "outputs": [],
   "source": [
    "# Split the data\n",
    "X = data.drop('Species', axis=1)\n",
    "y = data['Species']\n",
    "X_train, X_test, y_train, y_test = train_test_split(X, y, test_size=0.2)\n",
    "\n",
    "betas_train = gradient_descent(X_train, y_train, lr, epochs)"
   ],
   "metadata": {
    "collapsed": false,
    "ExecuteTime": {
     "end_time": "2024-05-08T18:38:27.012665381Z",
     "start_time": "2024-05-08T18:38:26.307213803Z"
    }
   }
  },
  {
   "cell_type": "code",
   "execution_count": 186,
   "outputs": [],
   "source": [
    "# Model Accuracy\n",
    "def predict(X,betas):\n",
    "    intercept = np.ones((X.shape[0], 1))\n",
    "    features = np.hstack((intercept, X))\n",
    "    return sigmoid(np.dot(features, betas))\n",
    "\n",
    "def accuracy(y, y_pred):\n",
    "    return np.mean(y == np.round(y_pred))"
   ],
   "metadata": {
    "collapsed": false,
    "ExecuteTime": {
     "end_time": "2024-05-08T18:38:27.036416625Z",
     "start_time": "2024-05-08T18:38:27.014509679Z"
    }
   }
  },
  {
   "cell_type": "code",
   "execution_count": 187,
   "outputs": [
    {
     "name": "stdout",
     "output_type": "stream",
     "text": [
      "Train Accuracy :  0.3416666666666667\n",
      "Test Accuracy :  0.3333333333333333\n"
     ]
    }
   ],
   "source": [
    "# Train Accuracy\n",
    "print(\"Train Accuracy : \", accuracy(y_train, predict(X_train, betas_train)))\n",
    "# Test Accuracy\n",
    "print(\"Test Accuracy : \", accuracy(y_test, predict(X_test, betas_train)))"
   ],
   "metadata": {
    "collapsed": false,
    "ExecuteTime": {
     "end_time": "2024-05-08T18:38:27.118971306Z",
     "start_time": "2024-05-08T18:38:27.035264586Z"
    }
   }
  }
 ],
 "metadata": {
  "kernelspec": {
   "display_name": "Python 3",
   "language": "python",
   "name": "python3"
  },
  "language_info": {
   "codemirror_mode": {
    "name": "ipython",
    "version": 2
   },
   "file_extension": ".py",
   "mimetype": "text/x-python",
   "name": "python",
   "nbconvert_exporter": "python",
   "pygments_lexer": "ipython2",
   "version": "2.7.6"
  }
 },
 "nbformat": 4,
 "nbformat_minor": 0
}
