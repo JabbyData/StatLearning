{
 "cells": [
  {
   "cell_type": "code",
   "execution_count": 290,
   "metadata": {
    "collapsed": true,
    "ExecuteTime": {
     "end_time": "2024-05-07T18:57:53.090203037Z",
     "start_time": "2024-05-07T18:57:52.863555004Z"
    }
   },
   "outputs": [],
   "source": [
    "# Dependencies\n",
    "import pandas as pd\n",
    "import numpy as np\n",
    "from sklearn.model_selection import train_test_split\n",
    "from sklearn.linear_model import LinearRegression\n",
    "from sklearn.model_selection import StratifiedKFold"
   ]
  },
  {
   "cell_type": "code",
   "execution_count": 291,
   "outputs": [],
   "source": [
    "# Load data\n",
    "data = pd.read_csv('Data/Iris.csv')"
   ],
   "metadata": {
    "collapsed": false,
    "ExecuteTime": {
     "end_time": "2024-05-07T18:57:53.114134583Z",
     "start_time": "2024-05-07T18:57:52.910780456Z"
    }
   }
  },
  {
   "cell_type": "code",
   "execution_count": 292,
   "outputs": [],
   "source": [
    "# Data Preprocessing\n",
    "data = data.drop('Id', axis=1)\n",
    "data['Species'] = data['Species'].map(lambda x: 1 if x == 'Iris-setosa' else -1 if x == 'Iris-versicolor' else 0)"
   ],
   "metadata": {
    "collapsed": false,
    "ExecuteTime": {
     "end_time": "2024-05-07T18:57:53.115145346Z",
     "start_time": "2024-05-07T18:57:52.973807980Z"
    }
   }
  },
  {
   "cell_type": "code",
   "execution_count": 293,
   "outputs": [],
   "source": [
    "# Performing Linear Regression\n",
    "def get_coeffs(Y,X):\n",
    "    X_t = np.transpose(X)\n",
    "    M = X_t @ X\n",
    "    if np.linalg.det(M) == 0:\n",
    "        return 'Not a single solution to the problem'\n",
    "    return np.linalg.inv(M) @ X_t @ Y"
   ],
   "metadata": {
    "collapsed": false,
    "ExecuteTime": {
     "end_time": "2024-05-07T18:57:53.270405450Z",
     "start_time": "2024-05-07T18:57:53.057101756Z"
    }
   }
  },
  {
   "cell_type": "code",
   "execution_count": 294,
   "outputs": [],
   "source": [
    "# Train Test Split\n",
    "X_train, X_test, Y_train, Y_test = train_test_split(data.drop('Species', axis=1), data['Species'], test_size=0.2)"
   ],
   "metadata": {
    "collapsed": false,
    "ExecuteTime": {
     "end_time": "2024-05-07T18:57:53.271350636Z",
     "start_time": "2024-05-07T18:57:53.142563487Z"
    }
   }
  },
  {
   "cell_type": "code",
   "execution_count": 295,
   "outputs": [],
   "source": [
    "betas = get_coeffs(np.array(Y_train), np.array(X_train))"
   ],
   "metadata": {
    "collapsed": false,
    "ExecuteTime": {
     "end_time": "2024-05-07T18:57:53.330554281Z",
     "start_time": "2024-05-07T18:57:53.242272543Z"
    }
   }
  },
  {
   "cell_type": "code",
   "execution_count": 296,
   "outputs": [],
   "source": [
    "# Predictions\n",
    "def predict(X, betas):\n",
    "    return X @ betas"
   ],
   "metadata": {
    "collapsed": false,
    "ExecuteTime": {
     "end_time": "2024-05-07T18:57:53.384117867Z",
     "start_time": "2024-05-07T18:57:53.298259378Z"
    }
   }
  },
  {
   "cell_type": "code",
   "execution_count": 297,
   "outputs": [],
   "source": [
    "predictions_train = predict(X_train, betas)\n",
    "predictions_test = predict(X_test, betas)"
   ],
   "metadata": {
    "collapsed": false,
    "ExecuteTime": {
     "end_time": "2024-05-07T18:57:53.490649973Z",
     "start_time": "2024-05-07T18:57:53.386919050Z"
    }
   }
  },
  {
   "cell_type": "code",
   "execution_count": 298,
   "outputs": [],
   "source": [
    "# Evaluation\n",
    "def MSE(Y, Y_pred):\n",
    "    return np.mean((Y - Y_pred) ** 2)"
   ],
   "metadata": {
    "collapsed": false,
    "ExecuteTime": {
     "end_time": "2024-05-07T18:57:53.622586199Z",
     "start_time": "2024-05-07T18:57:53.468961086Z"
    }
   }
  },
  {
   "cell_type": "code",
   "execution_count": 299,
   "outputs": [
    {
     "name": "stdout",
     "output_type": "stream",
     "text": [
      "Train MSE :  0.3124469402132547\n",
      "Test MSE :  0.2713111516559914\n"
     ]
    }
   ],
   "source": [
    "print(\"Train MSE : \",MSE(Y_train, predictions_train))\n",
    "print(\"Test MSE : \",MSE(Y_test, predictions_test))"
   ],
   "metadata": {
    "collapsed": false,
    "ExecuteTime": {
     "end_time": "2024-05-07T18:57:53.789106805Z",
     "start_time": "2024-05-07T18:57:53.550480745Z"
    }
   }
  },
  {
   "cell_type": "code",
   "execution_count": 300,
   "outputs": [],
   "source": [
    "# Cross validation\n",
    "def cross_validation(X,y,k):\n",
    "    skf = StratifiedKFold(n_splits=k)\n",
    "    MSE_min = 100000\n",
    "    betas_min = []\n",
    "    for train_index, test_index in skf.split(X,y):\n",
    "        X_train, X_test = X[train_index], X[test_index]\n",
    "        Y_train, Y_test = y[train_index], y[test_index]\n",
    "        betas = get_coeffs(Y_train, X_train)\n",
    "        predictions = predict(X_test, betas)\n",
    "        if MSE_min > MSE(Y_test, predictions):\n",
    "            MSE_min = MSE(Y_test, predictions)\n",
    "            betas_min = betas\n",
    "    return MSE_min, betas_min"
   ],
   "metadata": {
    "collapsed": false,
    "ExecuteTime": {
     "end_time": "2024-05-07T18:57:53.898560622Z",
     "start_time": "2024-05-07T18:57:53.652188914Z"
    }
   }
  },
  {
   "cell_type": "code",
   "execution_count": 301,
   "outputs": [
    {
     "name": "stdout",
     "output_type": "stream",
     "text": [
      "Training Accuracy :  0.2940421379925799\n",
      "Test Accuracy :  0.26880273836636887\n"
     ]
    }
   ],
   "source": [
    "X_train.index = range(len(X_train))\n",
    "Y_train.index = range(len(Y_train))\n",
    "MSE_train, betas = cross_validation(np.array(X_train), np.array(Y_train), 5)\n",
    "print(\"Training Accuracy : \", MSE_train)\n",
    "print(\"Test Accuracy : \", MSE(Y_test,predict(X_test,betas)))"
   ],
   "metadata": {
    "collapsed": false,
    "ExecuteTime": {
     "end_time": "2024-05-07T18:57:53.942925407Z",
     "start_time": "2024-05-07T18:57:53.746480049Z"
    }
   }
  },
  {
   "cell_type": "code",
   "execution_count": 302,
   "outputs": [
    {
     "name": "stdout",
     "output_type": "stream",
     "text": [
      "Train MSE :  0.29789096638330526\n",
      "Test MSE :  0.24901541725765403\n"
     ]
    }
   ],
   "source": [
    "# Using Sklearn\n",
    "model = LinearRegression()\n",
    "model.fit(X_train, Y_train)\n",
    "predictions_train = model.predict(X_train)\n",
    "predictions_test = model.predict(X_test)\n",
    "print(\"Train MSE : \",MSE(Y_train, predictions_train))\n",
    "print(\"Test MSE : \",MSE(Y_test, predictions_test))"
   ],
   "metadata": {
    "collapsed": false,
    "ExecuteTime": {
     "end_time": "2024-05-07T18:57:54.031061242Z",
     "start_time": "2024-05-07T18:57:53.847878666Z"
    }
   }
  }
 ],
 "metadata": {
  "kernelspec": {
   "display_name": "Python 3",
   "language": "python",
   "name": "python3"
  },
  "language_info": {
   "codemirror_mode": {
    "name": "ipython",
    "version": 2
   },
   "file_extension": ".py",
   "mimetype": "text/x-python",
   "name": "python",
   "nbconvert_exporter": "python",
   "pygments_lexer": "ipython2",
   "version": "2.7.6"
  }
 },
 "nbformat": 4,
 "nbformat_minor": 0
}
